{
  "nbformat": 4,
  "nbformat_minor": 0,
  "metadata": {
    "colab": {
      "name": "Mid_Term_DataLit.ipynb",
      "version": "0.3.2",
      "provenance": [],
      "include_colab_link": true
    },
    "kernelspec": {
      "name": "python3",
      "display_name": "Python 3"
    }
  },
  "cells": [
    {
      "cell_type": "markdown",
      "metadata": {
        "id": "view-in-github",
        "colab_type": "text"
      },
      "source": [
        "<a href=\"https://colab.research.google.com/github/Venkatakkinapalli/School-of-AI/blob/master/Mid_Term_DataLit.ipynb\" target=\"_parent\"><img src=\"https://colab.research.google.com/assets/colab-badge.svg\" alt=\"Open In Colab\"/></a>"
      ]
    },
    {
      "cell_type": "markdown",
      "metadata": {
        "id": "qPUEcOLf56cV",
        "colab_type": "text"
      },
      "source": [
        "# Import Libraries"
      ]
    },
    {
      "cell_type": "code",
      "metadata": {
        "id": "CrMzxv0FQVlS",
        "colab_type": "code",
        "colab": {}
      },
      "source": [
        "import numpy as np\n",
        "import pandas as pd\n",
        "import datetime\n",
        "from matplotlib import pyplot as plt\n",
        "from sklearn.model_selection import train_test_split,GridSearchCV\n",
        "from sklearn.linear_model import LinearRegression,Lasso,Ridge\n",
        "from sklearn.metrics import mean_squared_error,r2_score,mean_absolute_error"
      ],
      "execution_count": 0,
      "outputs": []
    },
    {
      "cell_type": "markdown",
      "metadata": {
        "id": "K21XWobN6F-X",
        "colab_type": "text"
      },
      "source": [
        "# Import File from Local"
      ]
    },
    {
      "cell_type": "code",
      "metadata": {
        "id": "31Pujz71UANq",
        "colab_type": "code",
        "outputId": "3297852c-e66e-4177-8565-8a39d3e3817b",
        "colab": {
          "base_uri": "https://localhost:8080/",
          "height": 55
        }
      },
      "source": [
        "'''\n",
        "from google.colab import files\n",
        "\n",
        "uploaded = files.upload()\n",
        "\n",
        "for fn in uploaded.keys():\n",
        "  print('User uploaded file \"{name}\" with length {length} bytes'.format(\n",
        "      name=fn, length=len(uploaded[fn])))'\n",
        "      \n",
        "      '''"
      ],
      "execution_count": 189,
      "outputs": [
        {
          "output_type": "execute_result",
          "data": {
            "text/plain": [
              "'\\nfrom google.colab import files\\n\\nuploaded = files.upload()\\n\\nfor fn in uploaded.keys():\\n  print(\\'User uploaded file \"{name}\" with length {length} bytes\\'.format(\\n      name=fn, length=len(uploaded[fn])))\\'\\n      \\n      '"
            ]
          },
          "metadata": {
            "tags": []
          },
          "execution_count": 189
        }
      ]
    },
    {
      "cell_type": "markdown",
      "metadata": {
        "id": "OgOw_-Ah6Uog",
        "colab_type": "text"
      },
      "source": [
        "# Lets Load the file to a Data Frame"
      ]
    },
    {
      "cell_type": "code",
      "metadata": {
        "id": "bE3_fpHVUQ8W",
        "colab_type": "code",
        "colab": {}
      },
      "source": [
        "df = pd.read_csv(\"AAPL.csv\")"
      ],
      "execution_count": 0,
      "outputs": []
    },
    {
      "cell_type": "code",
      "metadata": {
        "id": "yY3yklutUYWw",
        "colab_type": "code",
        "outputId": "3a39a78f-b0bb-4a8e-e602-02bd8e824655",
        "colab": {
          "base_uri": "https://localhost:8080/",
          "height": 202
        }
      },
      "source": [
        "df.head()"
      ],
      "execution_count": 191,
      "outputs": [
        {
          "output_type": "execute_result",
          "data": {
            "text/html": [
              "<div>\n",
              "<style scoped>\n",
              "    .dataframe tbody tr th:only-of-type {\n",
              "        vertical-align: middle;\n",
              "    }\n",
              "\n",
              "    .dataframe tbody tr th {\n",
              "        vertical-align: top;\n",
              "    }\n",
              "\n",
              "    .dataframe thead th {\n",
              "        text-align: right;\n",
              "    }\n",
              "</style>\n",
              "<table border=\"1\" class=\"dataframe\">\n",
              "  <thead>\n",
              "    <tr style=\"text-align: right;\">\n",
              "      <th></th>\n",
              "      <th>Date</th>\n",
              "      <th>Open</th>\n",
              "      <th>High</th>\n",
              "      <th>Low</th>\n",
              "      <th>Close</th>\n",
              "      <th>Adj Close</th>\n",
              "      <th>Volume</th>\n",
              "    </tr>\n",
              "  </thead>\n",
              "  <tbody>\n",
              "    <tr>\n",
              "      <th>0</th>\n",
              "      <td>2017-06-06</td>\n",
              "      <td>153.899994</td>\n",
              "      <td>155.809998</td>\n",
              "      <td>153.779999</td>\n",
              "      <td>154.449997</td>\n",
              "      <td>149.805511</td>\n",
              "      <td>26624900</td>\n",
              "    </tr>\n",
              "    <tr>\n",
              "      <th>1</th>\n",
              "      <td>2017-06-07</td>\n",
              "      <td>155.020004</td>\n",
              "      <td>155.979996</td>\n",
              "      <td>154.479996</td>\n",
              "      <td>155.369995</td>\n",
              "      <td>150.697861</td>\n",
              "      <td>21069600</td>\n",
              "    </tr>\n",
              "    <tr>\n",
              "      <th>2</th>\n",
              "      <td>2017-06-08</td>\n",
              "      <td>155.250000</td>\n",
              "      <td>155.539993</td>\n",
              "      <td>154.399994</td>\n",
              "      <td>154.990005</td>\n",
              "      <td>150.329269</td>\n",
              "      <td>21250800</td>\n",
              "    </tr>\n",
              "    <tr>\n",
              "      <th>3</th>\n",
              "      <td>2017-06-09</td>\n",
              "      <td>155.190002</td>\n",
              "      <td>155.190002</td>\n",
              "      <td>146.020004</td>\n",
              "      <td>148.979996</td>\n",
              "      <td>144.500000</td>\n",
              "      <td>64882700</td>\n",
              "    </tr>\n",
              "    <tr>\n",
              "      <th>4</th>\n",
              "      <td>2017-06-12</td>\n",
              "      <td>145.740005</td>\n",
              "      <td>146.089996</td>\n",
              "      <td>142.509995</td>\n",
              "      <td>145.419998</td>\n",
              "      <td>141.047043</td>\n",
              "      <td>72307300</td>\n",
              "    </tr>\n",
              "  </tbody>\n",
              "</table>\n",
              "</div>"
            ],
            "text/plain": [
              "         Date        Open        High  ...       Close   Adj Close    Volume\n",
              "0  2017-06-06  153.899994  155.809998  ...  154.449997  149.805511  26624900\n",
              "1  2017-06-07  155.020004  155.979996  ...  155.369995  150.697861  21069600\n",
              "2  2017-06-08  155.250000  155.539993  ...  154.990005  150.329269  21250800\n",
              "3  2017-06-09  155.190002  155.190002  ...  148.979996  144.500000  64882700\n",
              "4  2017-06-12  145.740005  146.089996  ...  145.419998  141.047043  72307300\n",
              "\n",
              "[5 rows x 7 columns]"
            ]
          },
          "metadata": {
            "tags": []
          },
          "execution_count": 191
        }
      ]
    },
    {
      "cell_type": "code",
      "metadata": {
        "id": "OPK_l6FBUjfF",
        "colab_type": "code",
        "colab": {}
      },
      "source": [
        "df = df.drop(labels='Adj Close', axis= 1)"
      ],
      "execution_count": 0,
      "outputs": []
    },
    {
      "cell_type": "code",
      "metadata": {
        "id": "-i60Gd74VTso",
        "colab_type": "code",
        "colab": {}
      },
      "source": [
        "df['Date'] = pd.to_datetime(df.Date)\n",
        "df.loc[:,'LogVolume'] = np.log(df.Volume.values)"
      ],
      "execution_count": 0,
      "outputs": []
    },
    {
      "cell_type": "markdown",
      "metadata": {
        "id": "IpHKuH8M61uQ",
        "colab_type": "text"
      },
      "source": [
        "Round the columns to two digits"
      ]
    },
    {
      "cell_type": "code",
      "metadata": {
        "id": "75fMe2QXWfdR",
        "colab_type": "code",
        "outputId": "6543e685-5e68-4692-fba8-dbd49895df3b",
        "colab": {
          "base_uri": "https://localhost:8080/",
          "height": 202
        }
      },
      "source": [
        "df = df.round({'Open':2,'High':2,'Low':2, 'Close':2,'LogVolume':2})\n",
        "df.head()"
      ],
      "execution_count": 194,
      "outputs": [
        {
          "output_type": "execute_result",
          "data": {
            "text/html": [
              "<div>\n",
              "<style scoped>\n",
              "    .dataframe tbody tr th:only-of-type {\n",
              "        vertical-align: middle;\n",
              "    }\n",
              "\n",
              "    .dataframe tbody tr th {\n",
              "        vertical-align: top;\n",
              "    }\n",
              "\n",
              "    .dataframe thead th {\n",
              "        text-align: right;\n",
              "    }\n",
              "</style>\n",
              "<table border=\"1\" class=\"dataframe\">\n",
              "  <thead>\n",
              "    <tr style=\"text-align: right;\">\n",
              "      <th></th>\n",
              "      <th>Date</th>\n",
              "      <th>Open</th>\n",
              "      <th>High</th>\n",
              "      <th>Low</th>\n",
              "      <th>Close</th>\n",
              "      <th>Volume</th>\n",
              "      <th>LogVolume</th>\n",
              "    </tr>\n",
              "  </thead>\n",
              "  <tbody>\n",
              "    <tr>\n",
              "      <th>0</th>\n",
              "      <td>2017-06-06</td>\n",
              "      <td>153.90</td>\n",
              "      <td>155.81</td>\n",
              "      <td>153.78</td>\n",
              "      <td>154.45</td>\n",
              "      <td>26624900</td>\n",
              "      <td>17.10</td>\n",
              "    </tr>\n",
              "    <tr>\n",
              "      <th>1</th>\n",
              "      <td>2017-06-07</td>\n",
              "      <td>155.02</td>\n",
              "      <td>155.98</td>\n",
              "      <td>154.48</td>\n",
              "      <td>155.37</td>\n",
              "      <td>21069600</td>\n",
              "      <td>16.86</td>\n",
              "    </tr>\n",
              "    <tr>\n",
              "      <th>2</th>\n",
              "      <td>2017-06-08</td>\n",
              "      <td>155.25</td>\n",
              "      <td>155.54</td>\n",
              "      <td>154.40</td>\n",
              "      <td>154.99</td>\n",
              "      <td>21250800</td>\n",
              "      <td>16.87</td>\n",
              "    </tr>\n",
              "    <tr>\n",
              "      <th>3</th>\n",
              "      <td>2017-06-09</td>\n",
              "      <td>155.19</td>\n",
              "      <td>155.19</td>\n",
              "      <td>146.02</td>\n",
              "      <td>148.98</td>\n",
              "      <td>64882700</td>\n",
              "      <td>17.99</td>\n",
              "    </tr>\n",
              "    <tr>\n",
              "      <th>4</th>\n",
              "      <td>2017-06-12</td>\n",
              "      <td>145.74</td>\n",
              "      <td>146.09</td>\n",
              "      <td>142.51</td>\n",
              "      <td>145.42</td>\n",
              "      <td>72307300</td>\n",
              "      <td>18.10</td>\n",
              "    </tr>\n",
              "  </tbody>\n",
              "</table>\n",
              "</div>"
            ],
            "text/plain": [
              "        Date    Open    High     Low   Close    Volume  LogVolume\n",
              "0 2017-06-06  153.90  155.81  153.78  154.45  26624900      17.10\n",
              "1 2017-06-07  155.02  155.98  154.48  155.37  21069600      16.86\n",
              "2 2017-06-08  155.25  155.54  154.40  154.99  21250800      16.87\n",
              "3 2017-06-09  155.19  155.19  146.02  148.98  64882700      17.99\n",
              "4 2017-06-12  145.74  146.09  142.51  145.42  72307300      18.10"
            ]
          },
          "metadata": {
            "tags": []
          },
          "execution_count": 194
        }
      ]
    },
    {
      "cell_type": "code",
      "metadata": {
        "id": "NuMhiThLZNbN",
        "colab_type": "code",
        "colab": {}
      },
      "source": [
        "df.loc[:,'OneDbefore'] = df.Close.shift(1)\n",
        "df.loc[:,'FiveDbefore'] = df.Close.shift(5)"
      ],
      "execution_count": 0,
      "outputs": []
    },
    {
      "cell_type": "code",
      "metadata": {
        "id": "1Ad3RgU0igZt",
        "colab_type": "code",
        "colab": {}
      },
      "source": [
        "df = df.dropna()"
      ],
      "execution_count": 0,
      "outputs": []
    },
    {
      "cell_type": "code",
      "metadata": {
        "id": "rmEYi757jfj7",
        "colab_type": "code",
        "colab": {}
      },
      "source": [
        "df.loc[:,'Open_diff'] = df.Open.values - df.OneDbefore.values\n",
        "df.loc[:,'High_diff'] = df.High.values - df.OneDbefore.values\n",
        "df.loc[:,'Low_diff'] = df.Low.values - df.OneDbefore.values\n",
        "df.loc[:,'Change'] = df.Close.values - df.OneDbefore.values\n",
        "df.loc[:,'logDate'] = np.log(pd.to_numeric(df.Date))"
      ],
      "execution_count": 0,
      "outputs": []
    },
    {
      "cell_type": "code",
      "metadata": {
        "id": "PqoPX_cpkhQb",
        "colab_type": "code",
        "colab": {}
      },
      "source": [
        "a = df.loc[:,'logDate']"
      ],
      "execution_count": 0,
      "outputs": []
    },
    {
      "cell_type": "code",
      "metadata": {
        "id": "I3O0bR8Nl9cT",
        "colab_type": "code",
        "colab": {
          "base_uri": "https://localhost:8080/",
          "height": 287
        },
        "outputId": "00558196-f94e-4d7b-ebed-59151fd29487"
      },
      "source": [
        "plt.scatter(np.arange(len(a)),a,c = 'R')"
      ],
      "execution_count": 199,
      "outputs": [
        {
          "output_type": "execute_result",
          "data": {
            "text/plain": [
              "<matplotlib.collections.PathCollection at 0x7f18d398cc88>"
            ]
          },
          "metadata": {
            "tags": []
          },
          "execution_count": 199
        },
        {
          "output_type": "display_data",
          "data": {
            "image/png": "[encoded data removed]",
            "text/plain": [
              "<Figure size 432x288 with 1 Axes>"
            ]
          },
          "metadata": {
            "tags": []
          }
        }
      ]
    },
    {
      "cell_type": "code",
      "metadata": {
        "id": "foIEfptPm7YM",
        "colab_type": "code",
        "colab": {}
      },
      "source": [
        "df = df.reset_index().drop(labels = ['Date','index','Volume'], axis = 1)"
      ],
      "execution_count": 0,
      "outputs": []
    },
    {
      "cell_type": "code",
      "metadata": {
        "id": "rPvkdpoNoxao",
        "colab_type": "code",
        "colab": {
          "base_uri": "https://localhost:8080/",
          "height": 437
        },
        "outputId": "86159122-5209-4142-d5ad-93c8ecd1552b"
      },
      "source": [
        "df.corr()"
      ],
      "execution_count": 201,
      "outputs": [
        {
          "output_type": "execute_result",
          "data": {
            "text/html": [
              "<div>\n",
              "<style scoped>\n",
              "    .dataframe tbody tr th:only-of-type {\n",
              "        vertical-align: middle;\n",
              "    }\n",
              "\n",
              "    .dataframe tbody tr th {\n",
              "        vertical-align: top;\n",
              "    }\n",
              "\n",
              "    .dataframe thead th {\n",
              "        text-align: right;\n",
              "    }\n",
              "</style>\n",
              "<table border=\"1\" class=\"dataframe\">\n",
              "  <thead>\n",
              "    <tr style=\"text-align: right;\">\n",
              "      <th></th>\n",
              "      <th>Open</th>\n",
              "      <th>High</th>\n",
              "      <th>Low</th>\n",
              "      <th>Close</th>\n",
              "      <th>LogVolume</th>\n",
              "      <th>OneDbefore</th>\n",
              "      <th>FiveDbefore</th>\n",
              "      <th>Open_diff</th>\n",
              "      <th>High_diff</th>\n",
              "      <th>Low_diff</th>\n",
              "      <th>Change</th>\n",
              "      <th>logDate</th>\n",
              "    </tr>\n",
              "  </thead>\n",
              "  <tbody>\n",
              "    <tr>\n",
              "      <th>Open</th>\n",
              "      <td>1.000000</td>\n",
              "      <td>0.997902</td>\n",
              "      <td>0.997057</td>\n",
              "      <td>0.994892</td>\n",
              "      <td>0.015095</td>\n",
              "      <td>0.995852</td>\n",
              "      <td>0.958510</td>\n",
              "      <td>-0.000468</td>\n",
              "      <td>0.098994</td>\n",
              "      <td>-0.107745</td>\n",
              "      <td>-0.023813</td>\n",
              "      <td>0.536255</td>\n",
              "    </tr>\n",
              "    <tr>\n",
              "      <th>High</th>\n",
              "      <td>0.997902</td>\n",
              "      <td>1.000000</td>\n",
              "      <td>0.996698</td>\n",
              "      <td>0.997482</td>\n",
              "      <td>0.036244</td>\n",
              "      <td>0.994119</td>\n",
              "      <td>0.959662</td>\n",
              "      <td>-0.004385</td>\n",
              "      <td>0.134226</td>\n",
              "      <td>-0.096480</td>\n",
              "      <td>0.006978</td>\n",
              "      <td>0.545488</td>\n",
              "    </tr>\n",
              "    <tr>\n",
              "      <th>Low</th>\n",
              "      <td>0.997057</td>\n",
              "      <td>0.996698</td>\n",
              "      <td>1.000000</td>\n",
              "      <td>0.997674</td>\n",
              "      <td>-0.021213</td>\n",
              "      <td>0.992495</td>\n",
              "      <td>0.951647</td>\n",
              "      <td>0.004218</td>\n",
              "      <td>0.118606</td>\n",
              "      <td>-0.056655</td>\n",
              "      <td>0.019921</td>\n",
              "      <td>0.527823</td>\n",
              "    </tr>\n",
              "    <tr>\n",
              "      <th>Close</th>\n",
              "      <td>0.994892</td>\n",
              "      <td>0.997482</td>\n",
              "      <td>0.997674</td>\n",
              "      <td>1.000000</td>\n",
              "      <td>0.003991</td>\n",
              "      <td>0.990148</td>\n",
              "      <td>0.953012</td>\n",
              "      <td>0.006323</td>\n",
              "      <td>0.147327</td>\n",
              "      <td>-0.056202</td>\n",
              "      <td>0.053213</td>\n",
              "      <td>0.537471</td>\n",
              "    </tr>\n",
              "    <tr>\n",
              "      <th>LogVolume</th>\n",
              "      <td>0.015095</td>\n",
              "      <td>0.036244</td>\n",
              "      <td>-0.021213</td>\n",
              "      <td>0.003991</td>\n",
              "      <td>1.000000</td>\n",
              "      <td>0.021266</td>\n",
              "      <td>0.078166</td>\n",
              "      <td>-0.068522</td>\n",
              "      <td>0.139973</td>\n",
              "      <td>-0.344328</td>\n",
              "      <td>-0.123263</td>\n",
              "      <td>0.165236</td>\n",
              "    </tr>\n",
              "    <tr>\n",
              "      <th>OneDbefore</th>\n",
              "      <td>0.995852</td>\n",
              "      <td>0.994119</td>\n",
              "      <td>0.992495</td>\n",
              "      <td>0.990148</td>\n",
              "      <td>0.021266</td>\n",
              "      <td>1.000000</td>\n",
              "      <td>0.962409</td>\n",
              "      <td>-0.091449</td>\n",
              "      <td>0.026124</td>\n",
              "      <td>-0.178315</td>\n",
              "      <td>-0.087141</td>\n",
              "      <td>0.540894</td>\n",
              "    </tr>\n",
              "    <tr>\n",
              "      <th>FiveDbefore</th>\n",
              "      <td>0.958510</td>\n",
              "      <td>0.959662</td>\n",
              "      <td>0.951647</td>\n",
              "      <td>0.953012</td>\n",
              "      <td>0.078166</td>\n",
              "      <td>0.962409</td>\n",
              "      <td>1.000000</td>\n",
              "      <td>-0.086998</td>\n",
              "      <td>0.052035</td>\n",
              "      <td>-0.200092</td>\n",
              "      <td>-0.083256</td>\n",
              "      <td>0.555260</td>\n",
              "    </tr>\n",
              "    <tr>\n",
              "      <th>Open_diff</th>\n",
              "      <td>-0.000468</td>\n",
              "      <td>-0.004385</td>\n",
              "      <td>0.004218</td>\n",
              "      <td>0.006323</td>\n",
              "      <td>-0.068522</td>\n",
              "      <td>-0.091449</td>\n",
              "      <td>-0.086998</td>\n",
              "      <td>1.000000</td>\n",
              "      <td>0.796353</td>\n",
              "      <td>0.780599</td>\n",
              "      <td>0.697134</td>\n",
              "      <td>-0.075684</td>\n",
              "    </tr>\n",
              "    <tr>\n",
              "      <th>High_diff</th>\n",
              "      <td>0.098994</td>\n",
              "      <td>0.134226</td>\n",
              "      <td>0.118606</td>\n",
              "      <td>0.147327</td>\n",
              "      <td>0.139973</td>\n",
              "      <td>0.026124</td>\n",
              "      <td>0.052035</td>\n",
              "      <td>0.796353</td>\n",
              "      <td>1.000000</td>\n",
              "      <td>0.741098</td>\n",
              "      <td>0.861818</td>\n",
              "      <td>0.085900</td>\n",
              "    </tr>\n",
              "    <tr>\n",
              "      <th>Low_diff</th>\n",
              "      <td>-0.107745</td>\n",
              "      <td>-0.096480</td>\n",
              "      <td>-0.056655</td>\n",
              "      <td>-0.056202</td>\n",
              "      <td>-0.344328</td>\n",
              "      <td>-0.178315</td>\n",
              "      <td>-0.200092</td>\n",
              "      <td>0.780599</td>\n",
              "      <td>0.741098</td>\n",
              "      <td>1.000000</td>\n",
              "      <td>0.871786</td>\n",
              "      <td>-0.168966</td>\n",
              "    </tr>\n",
              "    <tr>\n",
              "      <th>Change</th>\n",
              "      <td>-0.023813</td>\n",
              "      <td>0.006978</td>\n",
              "      <td>0.019921</td>\n",
              "      <td>0.053213</td>\n",
              "      <td>-0.123263</td>\n",
              "      <td>-0.087141</td>\n",
              "      <td>-0.083256</td>\n",
              "      <td>0.697134</td>\n",
              "      <td>0.861818</td>\n",
              "      <td>0.871786</td>\n",
              "      <td>1.000000</td>\n",
              "      <td>-0.033573</td>\n",
              "    </tr>\n",
              "    <tr>\n",
              "      <th>logDate</th>\n",
              "      <td>0.536255</td>\n",
              "      <td>0.545488</td>\n",
              "      <td>0.527823</td>\n",
              "      <td>0.537471</td>\n",
              "      <td>0.165236</td>\n",
              "      <td>0.540894</td>\n",
              "      <td>0.555260</td>\n",
              "      <td>-0.075684</td>\n",
              "      <td>0.085900</td>\n",
              "      <td>-0.168966</td>\n",
              "      <td>-0.033573</td>\n",
              "      <td>1.000000</td>\n",
              "    </tr>\n",
              "  </tbody>\n",
              "</table>\n",
              "</div>"
            ],
            "text/plain": [
              "                 Open      High       Low  ...  Low_diff    Change   logDate\n",
              "Open         1.000000  0.997902  0.997057  ... -0.107745 -0.023813  0.536255\n",
              "High         0.997902  1.000000  0.996698  ... -0.096480  0.006978  0.545488\n",
              "Low          0.997057  0.996698  1.000000  ... -0.056655  0.019921  0.527823\n",
              "Close        0.994892  0.997482  0.997674  ... -0.056202  0.053213  0.537471\n",
              "LogVolume    0.015095  0.036244 -0.021213  ... -0.344328 -0.123263  0.165236\n",
              "OneDbefore   0.995852  0.994119  0.992495  ... -0.178315 -0.087141  0.540894\n",
              "FiveDbefore  0.958510  0.959662  0.951647  ... -0.200092 -0.083256  0.555260\n",
              "Open_diff   -0.000468 -0.004385  0.004218  ...  0.780599  0.697134 -0.075684\n",
              "High_diff    0.098994  0.134226  0.118606  ...  0.741098  0.861818  0.085900\n",
              "Low_diff    -0.107745 -0.096480 -0.056655  ...  1.000000  0.871786 -0.168966\n",
              "Change      -0.023813  0.006978  0.019921  ...  0.871786  1.000000 -0.033573\n",
              "logDate      0.536255  0.545488  0.527823  ... -0.168966 -0.033573  1.000000\n",
              "\n",
              "[12 rows x 12 columns]"
            ]
          },
          "metadata": {
            "tags": []
          },
          "execution_count": 201
        }
      ]
    },
    {
      "cell_type": "code",
      "metadata": {
        "id": "FyMBEyINnjeS",
        "colab_type": "code",
        "colab": {
          "base_uri": "https://localhost:8080/",
          "height": 338
        },
        "outputId": "4b6e8541-6800-4f70-843a-00ec72120b28"
      },
      "source": [
        "import seaborn as sns\n",
        "corr = df.corr()\n",
        "sns.heatmap(corr, \n",
        "            xticklabels=corr.columns.values,\n",
        "            yticklabels=corr.columns.values)"
      ],
      "execution_count": 202,
      "outputs": [
        {
          "output_type": "execute_result",
          "data": {
            "text/plain": [
              "<matplotlib.axes._subplots.AxesSubplot at 0x7f18d3b1d940>"
            ]
          },
          "metadata": {
            "tags": []
          },
          "execution_count": 202
        },
        {
          "output_type": "display_data",
          "data": {
            "image/png": "[encoded data removed]",
            "text/plain": [
              "<Figure size 432x288 with 2 Axes>"
            ]
          },
          "metadata": {
            "tags": []
          }
        }
      ]
    },
    {
      "cell_type": "code",
      "metadata": {
        "id": "DMUzpQy4oE6V",
        "colab_type": "code",
        "colab": {}
      },
      "source": [
        "X = df.drop(labels=['Close','Change'],axis = 1)\n",
        "y = df['Close']"
      ],
      "execution_count": 0,
      "outputs": []
    },
    {
      "cell_type": "code",
      "metadata": {
        "id": "wKXgghc80bNa",
        "colab_type": "code",
        "colab": {}
      },
      "source": [
        "X_train,X_test,y_train,y_test = train_test_split(X,y,test_size = 0.2)"
      ],
      "execution_count": 0,
      "outputs": []
    },
    {
      "cell_type": "code",
      "metadata": {
        "id": "udpObRbo6WE_",
        "colab_type": "code",
        "colab": {}
      },
      "source": [
        "def print_errors(y_hat,y_test):\n",
        "  print('r2_score :',r2_score(y_hat,y_test),' mae: ',mean_absolute_error(y_hat,y_test),' mse :'\n",
        "      ,mean_squared_error(y_hat,y_test))"
      ],
      "execution_count": 0,
      "outputs": []
    },
    {
      "cell_type": "code",
      "metadata": {
        "id": "bj8nfJDs3woL",
        "colab_type": "code",
        "colab": {
          "base_uri": "https://localhost:8080/",
          "height": 35
        },
        "outputId": "032e1efe-773b-49e0-d4f6-02e095df6fb0"
      },
      "source": [
        "lr = LinearRegression()\n",
        "lr.fit(X_train,y_train)\n",
        "y_lr_hat = lr.predict(X_test)\n",
        "print_errors(y_lr_hat,y_test)"
      ],
      "execution_count": 206,
      "outputs": [
        {
          "output_type": "stream",
          "text": [
            "r2_score : 0.9975625902910076  mae:  0.7253772999939383  mse : 0.9730012657427933\n"
          ],
          "name": "stdout"
        }
      ]
    },
    {
      "cell_type": "code",
      "metadata": {
        "id": "1YHmQubJ4rx7",
        "colab_type": "code",
        "colab": {
          "base_uri": "https://localhost:8080/",
          "height": 332
        },
        "outputId": "25d4f6f8-51e7-4b3d-8c72-273730e925b1"
      },
      "source": [
        "alpha = [1e-15, 1e-10, 1e-8, 1e-4, 1e-3,1e-2, 1, 5, 10, 20]\n",
        "ridge = Ridge()\n",
        "parameters = {'alpha': [1e-15, 1e-10, 1e-8, 1e-4, 1e-3,1e-2, 1, 5, 10, 20]}\n",
        "\n",
        "ridge_regressor = GridSearchCV(ridge, parameters, scoring='neg_mean_squared_error', cv=5)\n",
        "ridge_regressor.fit(X_train, y_train)"
      ],
      "execution_count": 207,
      "outputs": [
        {
          "output_type": "stream",
          "text": [
            "/usr/local/lib/python3.6/dist-packages/sklearn/linear_model/ridge.py:147: LinAlgWarning: Ill-conditioned matrix (rcond=9.88876e-17): result may not be accurate.\n",
            "  overwrite_a=True).T\n",
            "/usr/local/lib/python3.6/dist-packages/sklearn/linear_model/ridge.py:147: LinAlgWarning: Ill-conditioned matrix (rcond=3.40962e-17): result may not be accurate.\n",
            "  overwrite_a=True).T\n",
            "/usr/local/lib/python3.6/dist-packages/sklearn/linear_model/ridge.py:147: LinAlgWarning: Ill-conditioned matrix (rcond=8.53769e-17): result may not be accurate.\n",
            "  overwrite_a=True).T\n",
            "/usr/local/lib/python3.6/dist-packages/sklearn/linear_model/ridge.py:147: LinAlgWarning: Ill-conditioned matrix (rcond=3.22411e-17): result may not be accurate.\n",
            "  overwrite_a=True).T\n"
          ],
          "name": "stderr"
        },
        {
          "output_type": "execute_result",
          "data": {
            "text/plain": [
              "GridSearchCV(cv=5, error_score='raise-deprecating',\n",
              "             estimator=Ridge(alpha=1.0, copy_X=True, fit_intercept=True,\n",
              "                             max_iter=None, normalize=False, random_state=None,\n",
              "                             solver='auto', tol=0.001),\n",
              "             iid='warn', n_jobs=None,\n",
              "             param_grid={'alpha': [1e-15, 1e-10, 1e-08, 0.0001, 0.001, 0.01, 1,\n",
              "                                   5, 10, 20]},\n",
              "             pre_dispatch='2*n_jobs', refit=True, return_train_score=False,\n",
              "             scoring='neg_mean_squared_error', verbose=0)"
            ]
          },
          "metadata": {
            "tags": []
          },
          "execution_count": 207
        }
      ]
    },
    {
      "cell_type": "code",
      "metadata": {
        "id": "bOg3Kxye6AJf",
        "colab_type": "code",
        "colab": {
          "base_uri": "https://localhost:8080/",
          "height": 35
        },
        "outputId": "513f78ee-989f-4b3e-a3fe-c0384b1256dd"
      },
      "source": [
        "y_rd_hat = ridge_regressor.predict(X_test)\n",
        "print_errors(y_rd_hat,y_test)"
      ],
      "execution_count": 208,
      "outputs": [
        {
          "output_type": "stream",
          "text": [
            "r2_score : 0.9975747174789582  mae:  0.7252515414489216  mse : 0.968044856972247\n"
          ],
          "name": "stdout"
        }
      ]
    },
    {
      "cell_type": "code",
      "metadata": {
        "id": "nTCwb-8CCrp4",
        "colab_type": "code",
        "colab": {
          "base_uri": "https://localhost:8080/",
          "height": 1043
        },
        "outputId": "88e9c9f2-2316-46da-9990-6db321e05c66"
      },
      "source": [
        "alpha = [1e-15, 1e-10, 1e-8, 1e-4, 1e-3,1e-2, 1, 5, 10, 20]\n",
        "lasso = Lasso()\n",
        "parameters = {'alpha': [1e-15, 1e-10, 1e-8, 1e-4, 1e-3,1e-2, 1, 5, 10, 20]}\n",
        "\n",
        "lasso_regressor = GridSearchCV(lasso, parameters, scoring='neg_mean_squared_error', cv=5)\n",
        "lasso_regressor.fit(X_train, y_train)"
      ],
      "execution_count": 209,
      "outputs": [
        {
          "output_type": "stream",
          "text": [
            "/usr/local/lib/python3.6/dist-packages/sklearn/linear_model/coordinate_descent.py:475: ConvergenceWarning: Objective did not converge. You might want to increase the number of iterations. Duality gap: 100.23069491711854, tolerance: 14.44800839836478\n",
            "  positive)\n",
            "/usr/local/lib/python3.6/dist-packages/sklearn/linear_model/coordinate_descent.py:475: ConvergenceWarning: Objective did not converge. You might want to increase the number of iterations. Duality gap: 46.48883098231542, tolerance: 15.653231535235111\n",
            "  positive)\n",
            "/usr/local/lib/python3.6/dist-packages/sklearn/linear_model/coordinate_descent.py:475: ConvergenceWarning: Objective did not converge. You might want to increase the number of iterations. Duality gap: 38.022362416103704, tolerance: 14.974305350471703\n",
            "  positive)\n",
            "/usr/local/lib/python3.6/dist-packages/sklearn/linear_model/coordinate_descent.py:475: ConvergenceWarning: Objective did not converge. You might want to increase the number of iterations. Duality gap: 35.61494247225929, tolerance: 15.701532427421384\n",
            "  positive)\n",
            "/usr/local/lib/python3.6/dist-packages/sklearn/linear_model/coordinate_descent.py:475: ConvergenceWarning: Objective did not converge. You might want to increase the number of iterations. Duality gap: 39.62001962986972, tolerance: 14.44800839836478\n",
            "  positive)\n",
            "/usr/local/lib/python3.6/dist-packages/sklearn/linear_model/coordinate_descent.py:475: ConvergenceWarning: Objective did not converge. You might want to increase the number of iterations. Duality gap: 38.424806761424776, tolerance: 14.790315964388718\n",
            "  positive)\n",
            "/usr/local/lib/python3.6/dist-packages/sklearn/linear_model/coordinate_descent.py:475: ConvergenceWarning: Objective did not converge. You might want to increase the number of iterations. Duality gap: 37.547640668311544, tolerance: 15.653231535235111\n",
            "  positive)\n",
            "/usr/local/lib/python3.6/dist-packages/sklearn/linear_model/coordinate_descent.py:475: ConvergenceWarning: Objective did not converge. You might want to increase the number of iterations. Duality gap: 38.02038920990398, tolerance: 14.974305350471703\n",
            "  positive)\n",
            "/usr/local/lib/python3.6/dist-packages/sklearn/linear_model/coordinate_descent.py:475: ConvergenceWarning: Objective did not converge. You might want to increase the number of iterations. Duality gap: 35.61456548483409, tolerance: 15.701532427421384\n",
            "  positive)\n",
            "/usr/local/lib/python3.6/dist-packages/sklearn/linear_model/coordinate_descent.py:475: ConvergenceWarning: Objective did not converge. You might want to increase the number of iterations. Duality gap: 39.619134437378534, tolerance: 14.44800839836478\n",
            "  positive)\n",
            "/usr/local/lib/python3.6/dist-packages/sklearn/linear_model/coordinate_descent.py:475: ConvergenceWarning: Objective did not converge. You might want to increase the number of iterations. Duality gap: 38.42367424201993, tolerance: 14.790315964388718\n",
            "  positive)\n",
            "/usr/local/lib/python3.6/dist-packages/sklearn/linear_model/coordinate_descent.py:475: ConvergenceWarning: Objective did not converge. You might want to increase the number of iterations. Duality gap: 37.54649308229415, tolerance: 15.653231535235111\n",
            "  positive)\n",
            "/usr/local/lib/python3.6/dist-packages/sklearn/linear_model/coordinate_descent.py:475: ConvergenceWarning: Objective did not converge. You might want to increase the number of iterations. Duality gap: 38.195023229599, tolerance: 14.974305350471703\n",
            "  positive)\n",
            "/usr/local/lib/python3.6/dist-packages/sklearn/linear_model/coordinate_descent.py:475: ConvergenceWarning: Objective did not converge. You might want to increase the number of iterations. Duality gap: 35.85717823540705, tolerance: 15.701532427421384\n",
            "  positive)\n",
            "/usr/local/lib/python3.6/dist-packages/sklearn/linear_model/coordinate_descent.py:475: ConvergenceWarning: Objective did not converge. You might want to increase the number of iterations. Duality gap: 39.820970265250025, tolerance: 14.44800839836478\n",
            "  positive)\n",
            "/usr/local/lib/python3.6/dist-packages/sklearn/linear_model/coordinate_descent.py:475: ConvergenceWarning: Objective did not converge. You might want to increase the number of iterations. Duality gap: 38.57578184410502, tolerance: 14.790315964388718\n",
            "  positive)\n",
            "/usr/local/lib/python3.6/dist-packages/sklearn/linear_model/coordinate_descent.py:475: ConvergenceWarning: Objective did not converge. You might want to increase the number of iterations. Duality gap: 37.7293471363067, tolerance: 15.653231535235111\n",
            "  positive)\n",
            "/usr/local/lib/python3.6/dist-packages/sklearn/linear_model/coordinate_descent.py:475: ConvergenceWarning: Objective did not converge. You might want to increase the number of iterations. Duality gap: 39.19453614604626, tolerance: 14.974305350471703\n",
            "  positive)\n",
            "/usr/local/lib/python3.6/dist-packages/sklearn/linear_model/coordinate_descent.py:475: ConvergenceWarning: Objective did not converge. You might want to increase the number of iterations. Duality gap: 37.003502100923384, tolerance: 15.701532427421384\n",
            "  positive)\n",
            "/usr/local/lib/python3.6/dist-packages/sklearn/linear_model/coordinate_descent.py:475: ConvergenceWarning: Objective did not converge. You might want to increase the number of iterations. Duality gap: 40.87191065226776, tolerance: 14.44800839836478\n",
            "  positive)\n",
            "/usr/local/lib/python3.6/dist-packages/sklearn/linear_model/coordinate_descent.py:475: ConvergenceWarning: Objective did not converge. You might want to increase the number of iterations. Duality gap: 39.538879427875, tolerance: 14.790315964388718\n",
            "  positive)\n",
            "/usr/local/lib/python3.6/dist-packages/sklearn/linear_model/coordinate_descent.py:475: ConvergenceWarning: Objective did not converge. You might want to increase the number of iterations. Duality gap: 38.75220954271313, tolerance: 15.653231535235111\n",
            "  positive)\n",
            "/usr/local/lib/python3.6/dist-packages/sklearn/model_selection/_search.py:813: DeprecationWarning: The default of the `iid` parameter will change from True to False in version 0.22 and will be removed in 0.24. This will change numeric results when test-set sizes are unequal.\n",
            "  DeprecationWarning)\n",
            "/usr/local/lib/python3.6/dist-packages/sklearn/linear_model/coordinate_descent.py:475: ConvergenceWarning: Objective did not converge. You might want to increase the number of iterations. Duality gap: 49.24994161258337, tolerance: 18.894567863718596\n",
            "  positive)\n"
          ],
          "name": "stderr"
        },
        {
          "output_type": "execute_result",
          "data": {
            "text/plain": [
              "GridSearchCV(cv=5, error_score='raise-deprecating',\n",
              "             estimator=Lasso(alpha=1.0, copy_X=True, fit_intercept=True,\n",
              "                             max_iter=1000, normalize=False, positive=False,\n",
              "                             precompute=False, random_state=None,\n",
              "                             selection='cyclic', tol=0.0001, warm_start=False),\n",
              "             iid='warn', n_jobs=None,\n",
              "             param_grid={'alpha': [1e-15, 1e-10, 1e-08, 0.0001, 0.001, 0.01, 1,\n",
              "                                   5, 10, 20]},\n",
              "             pre_dispatch='2*n_jobs', refit=True, return_train_score=False,\n",
              "             scoring='neg_mean_squared_error', verbose=0)"
            ]
          },
          "metadata": {
            "tags": []
          },
          "execution_count": 209
        }
      ]
    },
    {
      "cell_type": "code",
      "metadata": {
        "id": "xj9QR2idDOtq",
        "colab_type": "code",
        "colab": {
          "base_uri": "https://localhost:8080/",
          "height": 35
        },
        "outputId": "ff769985-a073-48d3-9863-db461eb06262"
      },
      "source": [
        "y_ls_hat = lasso_regressor.predict(X_test)\n",
        "print_errors(y_ls_hat,y_test)"
      ],
      "execution_count": 210,
      "outputs": [
        {
          "output_type": "stream",
          "text": [
            "r2_score : 0.9976062992017488  mae:  0.726727037741072  mse : 0.9550574516453838\n"
          ],
          "name": "stdout"
        }
      ]
    },
    {
      "cell_type": "code",
      "metadata": {
        "id": "ppSgvfYZDbdw",
        "colab_type": "code",
        "colab": {
          "base_uri": "https://localhost:8080/",
          "height": 191
        },
        "outputId": "cd8be99a-3193-4a85-dabf-bc38e93c97a2"
      },
      "source": [
        "\n",
        "print(np.c_[X_test.columns,lasso_regressor.best_estimator_.coef_])"
      ],
      "execution_count": 211,
      "outputs": [
        {
          "output_type": "stream",
          "text": [
            "[['Open' 0.9785506283268105]\n",
            " ['High' 0.014275196430752563]\n",
            " ['Low' 0.008894239877764271]\n",
            " ['LogVolume' 0.0]\n",
            " ['OneDbefore' -0.003670978329060439]\n",
            " ['FiveDbefore' -0.002175985726718849]\n",
            " ['Open_diff' -1.4260811044603678]\n",
            " ['High_diff' 0.7611548617973044]\n",
            " ['Low_diff' 0.7272695776694043]\n",
            " ['logDate' 0.0]]\n"
          ],
          "name": "stdout"
        }
      ]
    },
    {
      "cell_type": "code",
      "metadata": {
        "id": "Jkwhgoa_HgCT",
        "colab_type": "code",
        "colab": {}
      },
      "source": [
        "#np.arange(X_train.shape[0],X_train.shape[0]+X_test.shape[0])"
      ],
      "execution_count": 0,
      "outputs": []
    },
    {
      "cell_type": "code",
      "metadata": {
        "id": "rzs6nbWIEPOS",
        "colab_type": "code",
        "colab": {
          "base_uri": "https://localhost:8080/",
          "height": 287
        },
        "outputId": "ffa16212-f6f4-4839-bd72-4f45926bb4f5"
      },
      "source": [
        "ax = sns.scatterplot(x = np.arange(len(X_train)), y=y_train, color='g', label='Training Close')\n",
        "sns.scatterplot(x=np.arange(X_train.shape[0],X_train.shape[0]+X_test.shape[0]), y=y_test, color='b', label='Actual Close')\n",
        "sns.scatterplot(x=np.arange(X_train.shape[0],X_train.shape[0]+X_test.shape[0]), y=y_ls_hat, color='r', label='Predicted Close', alpha=0.5)\n",
        "#sns.lineplot(x=x_test.day, y=test_pred, color='r', label='Predicted Close', alpha=0.5)\n",
        "ax.set_ylim(0,250)\n",
        "ax.legend(loc='lower right')"
      ],
      "execution_count": 213,
      "outputs": [
        {
          "output_type": "execute_result",
          "data": {
            "text/plain": [
              "<matplotlib.legend.Legend at 0x7f18d3b602b0>"
            ]
          },
          "metadata": {
            "tags": []
          },
          "execution_count": 213
        },
        {
          "output_type": "display_data",
          "data": {
            "image/png": "[encoded data removed]",
            "text/plain": [
              "<Figure size 432x288 with 1 Axes>"
            ]
          },
          "metadata": {
            "tags": []
          }
        }
      ]
    },
    {
      "cell_type": "code",
      "metadata": {
        "id": "KHVSDqAHmhiY",
        "colab_type": "code",
        "colab": {}
      },
      "source": [
        "print(np.c_[X_test.Open,y_ls_hat,y_test])"
      ],
      "execution_count": 0,
      "outputs": []
    }
  ]
}